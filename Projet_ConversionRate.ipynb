{
  "nbformat": 4,
  "nbformat_minor": 0,
  "metadata": {
    "colab": {
      "name": "Projet_ConversionRate.ipynb",
      "provenance": [],
      "collapsed_sections": [],
      "include_colab_link": true
    },
    "kernelspec": {
      "name": "python3",
      "display_name": "Python 3"
    }
  },
  "cells": [
    {
      "cell_type": "markdown",
      "metadata": {
        "id": "view-in-github",
        "colab_type": "text"
      },
      "source": [
        "<a href=\"https://colab.research.google.com/github/Gladybams/Projet_conversion-/blob/master/Projet_ConversionRate.ipynb\" target=\"_parent\"><img src=\"https://colab.research.google.com/assets/colab-badge.svg\" alt=\"Open In Colab\"/></a>"
      ]
    },
    {
      "cell_type": "markdown",
      "metadata": {
        "id": "6ixHjIilQ1nu",
        "colab_type": "text"
      },
      "source": [
        "## On importe les librairies usuelles"
      ]
    },
    {
      "cell_type": "code",
      "metadata": {
        "id": "bxDoC-VI36xk",
        "colab_type": "code",
        "colab": {}
      },
      "source": [
        "import pandas as pd\n",
        "import numpy as np\n",
        "import matplotlib.pyplot as plt\n",
        "import seaborn as sns"
      ],
      "execution_count": 0,
      "outputs": []
    },
    {
      "cell_type": "markdown",
      "metadata": {
        "id": "8DQY0irTRBQa",
        "colab_type": "text"
      },
      "source": [
        "On importe notre dataset qu'on nomme ici \"conversion\""
      ]
    },
    {
      "cell_type": "code",
      "metadata": {
        "id": "68GFFsMy4Qc7",
        "colab_type": "code",
        "outputId": "bd98655c-2d1a-44f7-bdb5-cc6072493368",
        "colab": {
          "base_uri": "https://localhost:8080/",
          "height": 196
        }
      },
      "source": [
        "conversion = pd.read_csv('conversion_data.csv')\n",
        "conversion.head()"
      ],
      "execution_count": 0,
      "outputs": [
        {
          "output_type": "execute_result",
          "data": {
            "text/html": [
              "<div>\n",
              "<style scoped>\n",
              "    .dataframe tbody tr th:only-of-type {\n",
              "        vertical-align: middle;\n",
              "    }\n",
              "\n",
              "    .dataframe tbody tr th {\n",
              "        vertical-align: top;\n",
              "    }\n",
              "\n",
              "    .dataframe thead th {\n",
              "        text-align: right;\n",
              "    }\n",
              "</style>\n",
              "<table border=\"1\" class=\"dataframe\">\n",
              "  <thead>\n",
              "    <tr style=\"text-align: right;\">\n",
              "      <th></th>\n",
              "      <th>country</th>\n",
              "      <th>age</th>\n",
              "      <th>new_user</th>\n",
              "      <th>source</th>\n",
              "      <th>total_pages_visited</th>\n",
              "      <th>converted</th>\n",
              "    </tr>\n",
              "  </thead>\n",
              "  <tbody>\n",
              "    <tr>\n",
              "      <th>0</th>\n",
              "      <td>UK</td>\n",
              "      <td>25</td>\n",
              "      <td>1</td>\n",
              "      <td>Ads</td>\n",
              "      <td>1</td>\n",
              "      <td>0</td>\n",
              "    </tr>\n",
              "    <tr>\n",
              "      <th>1</th>\n",
              "      <td>US</td>\n",
              "      <td>23</td>\n",
              "      <td>1</td>\n",
              "      <td>Seo</td>\n",
              "      <td>5</td>\n",
              "      <td>0</td>\n",
              "    </tr>\n",
              "    <tr>\n",
              "      <th>2</th>\n",
              "      <td>US</td>\n",
              "      <td>28</td>\n",
              "      <td>1</td>\n",
              "      <td>Seo</td>\n",
              "      <td>4</td>\n",
              "      <td>0</td>\n",
              "    </tr>\n",
              "    <tr>\n",
              "      <th>3</th>\n",
              "      <td>China</td>\n",
              "      <td>39</td>\n",
              "      <td>1</td>\n",
              "      <td>Seo</td>\n",
              "      <td>5</td>\n",
              "      <td>0</td>\n",
              "    </tr>\n",
              "    <tr>\n",
              "      <th>4</th>\n",
              "      <td>US</td>\n",
              "      <td>30</td>\n",
              "      <td>1</td>\n",
              "      <td>Seo</td>\n",
              "      <td>6</td>\n",
              "      <td>0</td>\n",
              "    </tr>\n",
              "  </tbody>\n",
              "</table>\n",
              "</div>"
            ],
            "text/plain": [
              "  country  age  new_user source  total_pages_visited  converted\n",
              "0      UK   25         1    Ads                    1          0\n",
              "1      US   23         1    Seo                    5          0\n",
              "2      US   28         1    Seo                    4          0\n",
              "3   China   39         1    Seo                    5          0\n",
              "4      US   30         1    Seo                    6          0"
            ]
          },
          "metadata": {
            "tags": []
          },
          "execution_count": 3
        }
      ]
    },
    {
      "cell_type": "markdown",
      "metadata": {
        "id": "fvb0VZIGRT2f",
        "colab_type": "text"
      },
      "source": [
        "On verifie s'il y a des valeurs manquantes dans notre tableau "
      ]
    },
    {
      "cell_type": "code",
      "metadata": {
        "id": "KdAMVDyO4pS0",
        "colab_type": "code",
        "outputId": "f6b4a030-d905-4057-b647-e620cd9fee4b",
        "colab": {
          "base_uri": "https://localhost:8080/",
          "height": 134
        }
      },
      "source": [
        "conversion.isnull().any()"
      ],
      "execution_count": 0,
      "outputs": [
        {
          "output_type": "execute_result",
          "data": {
            "text/plain": [
              "country                False\n",
              "age                    False\n",
              "new_user               False\n",
              "source                 False\n",
              "total_pages_visited    False\n",
              "converted              False\n",
              "dtype: bool"
            ]
          },
          "metadata": {
            "tags": []
          },
          "execution_count": 4
        }
      ]
    },
    {
      "cell_type": "markdown",
      "metadata": {
        "id": "hhgKgIjURfGx",
        "colab_type": "text"
      },
      "source": [
        "On verifie l'équivalence entre le nombre de conversion et non conversion"
      ]
    },
    {
      "cell_type": "code",
      "metadata": {
        "id": "0McoYirk5I3V",
        "colab_type": "code",
        "outputId": "ae31f56d-2b30-47b1-ac0f-b519bc5147f0",
        "colab": {
          "base_uri": "https://localhost:8080/",
          "height": 296
        }
      },
      "source": [
        "plt.figure(figsize=(8,4))\n",
        "sns.countplot(x='converted', data=conversion)"
      ],
      "execution_count": 0,
      "outputs": [
        {
          "output_type": "execute_result",
          "data": {
            "text/plain": [
              "<matplotlib.axes._subplots.AxesSubplot at 0x7f3828e2eb70>"
            ]
          },
          "metadata": {
            "tags": []
          },
          "execution_count": 5
        },
        {
          "output_type": "display_data",
          "data": {
            "image/png": "[encoded data removed]",
            "text/plain": [
              "<Figure size 576x288 with 1 Axes>"
            ]
          },
          "metadata": {
            "tags": []
          }
        }
      ]
    },
    {
      "cell_type": "code",
      "metadata": {
        "id": "3LkAfcvn5ulq",
        "colab_type": "code",
        "outputId": "8ec48672-67cc-4e02-87dd-b9d2ac56c7ce",
        "colab": {
          "base_uri": "https://localhost:8080/",
          "height": 67
        }
      },
      "source": [
        "conversion.converted.value_counts()"
      ],
      "execution_count": 0,
      "outputs": [
        {
          "output_type": "execute_result",
          "data": {
            "text/plain": [
              "0    306000\n",
              "1     10200\n",
              "Name: converted, dtype: int64"
            ]
          },
          "metadata": {
            "tags": []
          },
          "execution_count": 6
        }
      ]
    },
    {
      "cell_type": "markdown",
      "metadata": {
        "id": "3Ist80TFR-jx",
        "colab_type": "text"
      },
      "source": [
        "Dummyfication des villes (On Converti les variables catégoriques en variables factices)"
      ]
    },
    {
      "cell_type": "code",
      "metadata": {
        "id": "EDtE8nXG7-3W",
        "colab_type": "code",
        "colab": {}
      },
      "source": [
        "dataset= pd.get_dummies(conversion, drop_first=True) "
      ],
      "execution_count": 0,
      "outputs": []
    },
    {
      "cell_type": "markdown",
      "metadata": {
        "id": "rpcMdnjnSG5l",
        "colab_type": "text"
      },
      "source": [
        "Séparation des variables"
      ]
    },
    {
      "cell_type": "code",
      "metadata": {
        "id": "x4oQeKJ68zPz",
        "colab_type": "code",
        "colab": {}
      },
      "source": [
        "X = dataset.loc[:, dataset.columns != \"converted\"]\n",
        "y = dataset.loc[:, dataset.columns == \"converted\"]"
      ],
      "execution_count": 0,
      "outputs": []
    },
    {
      "cell_type": "code",
      "metadata": {
        "id": "5dh2msNS9COb",
        "colab_type": "code",
        "colab": {}
      },
      "source": [
        "from sklearn.model_selection import train_test_split\n",
        "X_train, X_test, y_train, y_test = train_test_split(X, y, test_size = 0.2, stratify = y, random_state = 1)"
      ],
      "execution_count": 0,
      "outputs": []
    },
    {
      "cell_type": "markdown",
      "metadata": {
        "id": "RrMTDG2ASgnf",
        "colab_type": "text"
      },
      "source": [
        "On normalise pour aider l'algorithme à faire ses prédictions"
      ]
    },
    {
      "cell_type": "code",
      "metadata": {
        "id": "8QGWZvpx9OIr",
        "colab_type": "code",
        "colab": {}
      },
      "source": [
        "from sklearn.preprocessing import StandardScaler\n",
        "sc_x = StandardScaler()\n",
        "X_train = sc_x.fit_transform(X_train)\n",
        "X_test = sc_x.transform(X_test)"
      ],
      "execution_count": 0,
      "outputs": []
    },
    {
      "cell_type": "markdown",
      "metadata": {
        "id": "RMWMcS1YS5vy",
        "colab_type": "text"
      },
      "source": [
        "#### Modele de regression Logistique "
      ]
    },
    {
      "cell_type": "code",
      "metadata": {
        "id": "9wQjC9RQ9W9m",
        "colab_type": "code",
        "outputId": "9eac0302-6b9d-4b44-ef52-b1a66bd4147c",
        "colab": {
          "base_uri": "https://localhost:8080/",
          "height": 221
        }
      },
      "source": [
        "# Modele de regression Logistique \n",
        "from sklearn.linear_model import LogisticRegression\n",
        "classifier = LogisticRegression(random_state=0, class_weight=\"balanced\")\n",
        "print(\"train set de la regression logistique\")\n",
        "print()\n",
        "classifier.fit(X_train, y_train)"
      ],
      "execution_count": 0,
      "outputs": [
        {
          "output_type": "stream",
          "text": [
            "train set de la regression logistique\n",
            "\n"
          ],
          "name": "stdout"
        },
        {
          "output_type": "stream",
          "text": [
            "/usr/local/lib/python3.6/dist-packages/sklearn/linear_model/logistic.py:432: FutureWarning: Default solver will be changed to 'lbfgs' in 0.22. Specify a solver to silence this warning.\n",
            "  FutureWarning)\n",
            "/usr/local/lib/python3.6/dist-packages/sklearn/utils/validation.py:724: DataConversionWarning: A column-vector y was passed when a 1d array was expected. Please change the shape of y to (n_samples, ), for example using ravel().\n",
            "  y = column_or_1d(y, warn=True)\n"
          ],
          "name": "stderr"
        },
        {
          "output_type": "execute_result",
          "data": {
            "text/plain": [
              "LogisticRegression(C=1.0, class_weight='balanced', dual=False,\n",
              "                   fit_intercept=True, intercept_scaling=1, l1_ratio=None,\n",
              "                   max_iter=100, multi_class='warn', n_jobs=None, penalty='l2',\n",
              "                   random_state=0, solver='warn', tol=0.0001, verbose=0,\n",
              "                   warm_start=False)"
            ]
          },
          "metadata": {
            "tags": []
          },
          "execution_count": 12
        }
      ]
    },
    {
      "cell_type": "code",
      "metadata": {
        "id": "7eu2bzd99aup",
        "colab_type": "code",
        "outputId": "6636046d-823d-4f35-85b9-7138c0aa6473",
        "colab": {
          "base_uri": "https://localhost:8080/",
          "height": 67
        }
      },
      "source": [
        "print(\"Le score de performance du modèle sur l’échantillon d’apprentissage  (X_train , y_train) :\")\n",
        "classifier_score = classifier.score(X_train,y_train)\n",
        "print()\n",
        "print(\"Score Classifier : {}  \".format(classifier_score)) \n"
      ],
      "execution_count": 0,
      "outputs": [
        {
          "output_type": "stream",
          "text": [
            "Le score de performance du modèle sur l’échantillon d’apprentissage  (X_train , y_train) :\n",
            "\n",
            "Score Classifier : 0.9421370967741935  \n"
          ],
          "name": "stdout"
        }
      ]
    },
    {
      "cell_type": "code",
      "metadata": {
        "id": "O8kQTowC-WRw",
        "colab_type": "code",
        "outputId": "f88875fd-4fb1-4e42-d876-8b7532d79c52",
        "colab": {
          "base_uri": "https://localhost:8080/",
          "height": 67
        }
      },
      "source": [
        "print(\"Le score de performance de ces trois modèles sur l’échantillon d’apprentissage  (X_test , y_test) :\")\n",
        "classifier_score = classifier.score(X_test,y_test)\n",
        "print()\n",
        "print(\"Score Classifier : {}  \".format(classifier_score)) "
      ],
      "execution_count": 0,
      "outputs": [
        {
          "output_type": "stream",
          "text": [
            "Le score de performance de ces trois modèles sur l’échantillon d’apprentissage  (X_test , y_test) :\n",
            "\n",
            "Score Classifier : 0.9415717900063251  \n"
          ],
          "name": "stdout"
        }
      ]
    },
    {
      "cell_type": "markdown",
      "metadata": {
        "id": "w_LEd_BqTddi",
        "colab_type": "text"
      },
      "source": [
        "On rémarque que le score ne varie presque pas."
      ]
    },
    {
      "cell_type": "code",
      "metadata": {
        "id": "cXKFrCX0_0Rf",
        "colab_type": "code",
        "outputId": "abaaa3df-979d-4bc5-bcda-5927b6bdfa86",
        "colab": {
          "base_uri": "https://localhost:8080/",
          "height": 33
        }
      },
      "source": [
        "y_pred = classifier.predict(X_test)\n",
        "y_pred"
      ],
      "execution_count": 0,
      "outputs": [
        {
          "output_type": "execute_result",
          "data": {
            "text/plain": [
              "array([0, 0, 0, ..., 0, 0, 0])"
            ]
          },
          "metadata": {
            "tags": []
          },
          "execution_count": 16
        }
      ]
    },
    {
      "cell_type": "code",
      "metadata": {
        "id": "4tfSWFyC_2CZ",
        "colab_type": "code",
        "outputId": "de884edf-9ca1-451b-d185-27d33f90fcbe",
        "colab": {
          "base_uri": "https://localhost:8080/",
          "height": 286
        }
      },
      "source": [
        "from sklearn.metrics import confusion_matrix\n",
        "cm = confusion_matrix(y_test, y_pred)\n",
        "sns.heatmap(cm, annot=True, fmt=\"d\")"
      ],
      "execution_count": 0,
      "outputs": [
        {
          "output_type": "execute_result",
          "data": {
            "text/plain": [
              "<matplotlib.axes._subplots.AxesSubplot at 0x7f4eddbfefd0>"
            ]
          },
          "metadata": {
            "tags": []
          },
          "execution_count": 25
        },
        {
          "output_type": "display_data",
          "data": {
            "image/png": "[encoded data removed]",
            "text/plain": [
              "<Figure size 432x288 with 2 Axes>"
            ]
          },
          "metadata": {
            "tags": []
          }
        }
      ]
    },
    {
      "cell_type": "code",
      "metadata": {
        "id": "O9xv31gxAU-d",
        "colab_type": "code",
        "outputId": "73c6fb2e-4aa3-4ac5-ec6f-67c81a96ae47",
        "colab": {
          "base_uri": "https://localhost:8080/",
          "height": 295
        }
      },
      "source": [
        "from sklearn.metrics import roc_auc_score\n",
        "from sklearn.metrics import roc_curve\n",
        "logit_roc_auc = roc_auc_score(y_test, y_pred)\n",
        "fpr, tpr, thresholds = roc_curve(y_test, classifier.predict_proba(X_test)[:,1])\n",
        "plt.figure()\n",
        "plt.plot(fpr, tpr, label='Logistic Regression (area = %0.2f)' % logit_roc_auc)\n",
        "plt.plot([0, 1], [0, 1],'r--')\n",
        "plt.xlim([-0.05, 1.05])\n",
        "plt.ylim([-0.05, 1.05])\n",
        "plt.xlabel('False Positive Rate')\n",
        "plt.ylabel('True Positive Rate')\n",
        "plt.title('Receiver operating characteristic')\n",
        "plt.legend(loc=\"lower right\")\n",
        "plt.savefig('Log_ROC')\n",
        "plt.show()"
      ],
      "execution_count": 0,
      "outputs": [
        {
          "output_type": "display_data",
          "data": {
            "image/png": "[encoded data removed]",
            "text/plain": [
              "<Figure size 432x288 with 1 Axes>"
            ]
          },
          "metadata": {
            "tags": []
          }
        }
      ]
    },
    {
      "cell_type": "markdown",
      "metadata": {
        "id": "-I1s4PLxhlUk",
        "colab_type": "text"
      },
      "source": [
        "## RECOMMENDATIONS"
      ]
    },
    {
      "cell_type": "markdown",
      "metadata": {
        "id": "8qMbvTanc40V",
        "colab_type": "text"
      },
      "source": [
        "Pour optimiser les taux de conversion nous devons tester quelques modifications sur le meme site grace à l'A/B test enfin de comparer les taux de conversions de deux versions."
      ]
    }
  ]
}